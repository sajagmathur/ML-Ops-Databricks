{
 "cells": [
  {
   "cell_type": "code",
   "execution_count": null,
   "id": "9daaf41b",
   "metadata": {},
   "outputs": [],
   "source": [
    "# Databricks notebook source\n",
    "!pip install snowflake"
   ]
  },
  {
   "cell_type": "code",
   "execution_count": null,
   "id": "b84b9df3",
   "metadata": {},
   "outputs": [],
   "source": [
    "# %restart_python "
   ]
  },
  {
   "cell_type": "code",
   "execution_count": null,
   "id": "435a2e6d",
   "metadata": {},
   "outputs": [],
   "source": [
    "# train.py- updatd\n",
    "import os\n",
    "import sys\n",
    "# sys.stdout.reconfigure(encoding='utf-8')\n",
    "import pandas as pd\n",
    "from sklearn.model_selection import train_test_split\n",
    "from sklearn.linear_model import LinearRegression\n",
    "import joblib"
   ]
  },
  {
   "cell_type": "code",
   "execution_count": null,
   "id": "b7b302c5",
   "metadata": {},
   "outputs": [],
   "source": [
    "# Load and prepare data\n",
    "import pandas as pd\n",
    "import snowflake.connector"
   ]
  },
  {
   "cell_type": "code",
   "execution_count": null,
   "id": "2a70cda5",
   "metadata": {},
   "outputs": [],
   "source": [
    "# Snowflake credentials (replace these with environment variables or secrets in production)\n",
    "# Retrieve notebook parameters passed via --notebook-params\n",
    "user = dbutils.widgets.get(\"SNOWFLAKE_USER\")\n",
    "password = dbutils.widgets.get(\"SNOWFLAKE_PASSWORD\")\n",
    "account = dbutils.widgets.get(\"SNOWFLAKE_ACCOUNT\")\n",
    "warehouse = dbutils.widgets.get(\"SNOWFLAKE_WAREHOUSE\")\n",
    "database = dbutils.widgets.get(\"SNOWFLAKE_DATABASE\")"
   ]
  },
  {
   "cell_type": "code",
   "execution_count": null,
   "id": "591c1364",
   "metadata": {},
   "outputs": [],
   "source": [
    "# Optional: set them as environment variables if you need\n",
    "os.environ[\"SNOWFLAKE_USER\"] = user\n",
    "os.environ[\"SNOWFLAKE_PASSWORD\"] = password\n",
    "os.environ[\"SNOWFLAKE_ACCOUNT\"] = account\n",
    "os.environ[\"SNOWFLAKE_WAREHOUSE\"] = warehouse\n",
    "os.environ[\"SNOWFLAKE_DATABASE\"] = database"
   ]
  },
  {
   "cell_type": "code",
   "execution_count": null,
   "id": "908f512b",
   "metadata": {},
   "outputs": [],
   "source": [
    "# Connect to Snowflake\n",
    "conn = snowflake.connector.connect(\n",
    "    user=user,\n",
    "    password=password,\n",
    "    account=account,\n",
    "    warehouse=warehouse,\n",
    "    database=database,\n",
    "    schema=\"PUBLIC\"\n",
    ")"
   ]
  },
  {
   "cell_type": "code",
   "execution_count": null,
   "id": "7e122940",
   "metadata": {},
   "outputs": [],
   "source": [
    "# SQL query to load the table\n",
    "sql_query = \"SELECT * FROM ICECREAM\""
   ]
  },
  {
   "cell_type": "code",
   "execution_count": null,
   "id": "6a153fac",
   "metadata": {},
   "outputs": [],
   "source": [
    "# Execute the query and fetch into pandas\n",
    "df = pd.read_sql(sql_query, conn)\n",
    "X = df[['TEMP']]\n",
    "y = df.iloc[:, -1]\n",
    "\n",
    "X_train, X_test, y_train, y_test = train_test_split(X, y, test_size=0.2, random_state=1)"
   ]
  },
  {
   "cell_type": "code",
   "execution_count": null,
   "id": "429955b9",
   "metadata": {},
   "outputs": [],
   "source": [
    "# Train the model\n",
    "model = LinearRegression()\n",
    "model.fit(X_train, y_train)"
   ]
  },
  {
   "cell_type": "code",
   "execution_count": null,
   "id": "bce5d164",
   "metadata": {},
   "outputs": [],
   "source": [
    "# Define output directory in DBFS\n",
    "output_dir = \"/Workspace/Users/sajag.mathur@exlservice.com/Model\"\n",
    "os.makedirs(output_dir, exist_ok=True)"
   ]
  },
  {
   "cell_type": "code",
   "execution_count": null,
   "id": "ec23ca43",
   "metadata": {},
   "outputs": [],
   "source": [
    "# Save files to DBFS\n",
    "joblib.dump(model, f\"{output_dir}/model.pkl\")\n",
    "joblib.dump((X_test, y_test), f\"{output_dir}/test_data.pkl\")\n",
    "\n",
    "print(\"✅ Model and test data saved to DBFS at /dbfs/tmp/model_output/\")"
   ]
  }
 ],
 "metadata": {
  "language_info": {
   "name": "python"
  }
 },
 "nbformat": 4,
 "nbformat_minor": 5
}
